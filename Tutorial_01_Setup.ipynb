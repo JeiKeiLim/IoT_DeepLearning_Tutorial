{
 "cells": [
  {
   "cell_type": "markdown",
   "metadata": {},
   "source": [
    "# DeepLearning 환경구축과 실행"
   ]
  },
  {
   "cell_type": "markdown",
   "metadata": {},
   "source": [
    "## [1] 설치 (윈도우 기준)\n",
    "\n",
    "### 1. Anaconda: Python + Packages\n",
    "https://www.anaconda.com/  \n",
    "Download Python 3.6 version  \n",
    "다운로드 받은 뒤에 설치파일을 이용해서 설치  \n",
    "\n",
    "### 2. Tensorflow\n",
    "윈도우 홈 버튼 -> Anaconda prompt를 선택해서 terminal 창을 띄운다  \n",
    "C:/> conda create -n tensorflow python=3.5  \n",
    "C:/> activate tensorflow  \n",
    "(tensorflow)C:/> pip install tensorflow (처음 설치시에)  \n",
    "(tensorflow)C:/> pip install --ignore-installed --upgrade tensorflow (다시 설치할 때)  \n",
    "\n",
    "### 3. Keras\n",
    "(tensorflow)C:/> pip install keras\n",
    "\n",
    "### 4. 각종 패키지 설치\n",
    "(tensorflow)C:/> pip install matplotlib (그래픽)  \n",
    "(tensorflow)C:/> pip install sklearn (머신러닝, 데이터)  \n",
    "(tensorflow)C:/> pip install pandas (데이터 처리)  \n",
    "(tensorflow)C:/> pip install jupyter (개발환경)  \n"
   ]
  },
  {
   "cell_type": "markdown",
   "metadata": {},
   "source": [
    "## [2] 실행 및 종료\n",
    "\n",
    "1. Terminal을 띄워서 (Anaconda prompt) 다음을 실행:  \n",
    "C:/> activate tensorflow  \n",
    "커서가 다음과 같이 바뀐다.\n",
    "(tensorflow)C:/>\n",
    "\n",
    "2. Jupyter notebook 실행:\n",
    "(tensorflow)C:/> jupyter notebook  \n",
    "\n",
    "3. Jupyter notebook의 종료:\n",
    "터미널 창에서 Ctrl+C 하거나 터미널 강제 종료\n"
   ]
  }
 ],
 "metadata": {
  "kernelspec": {
   "display_name": "Python 3",
   "language": "python",
   "name": "python3"
  },
  "language_info": {
   "codemirror_mode": {
    "name": "ipython",
    "version": 3
   },
   "file_extension": ".py",
   "mimetype": "text/x-python",
   "name": "python",
   "nbconvert_exporter": "python",
   "pygments_lexer": "ipython3",
   "version": "3.5.3"
  }
 },
 "nbformat": 4,
 "nbformat_minor": 2
}
