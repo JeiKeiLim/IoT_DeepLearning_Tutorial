{
 "cells": [
  {
   "cell_type": "markdown",
   "metadata": {},
   "source": [
    "## Perceptron for logic gates (AND, OR, XOR...?)\n",
    "\n",
    "* native python version (i.e., no external packages)\n",
    "* convention for variable names: lower-case for a scalar, upper-case for a vector or matrix"
   ]
  },
  {
   "cell_type": "markdown",
   "metadata": {},
   "source": [
    "### [1] Data preparation"
   ]
  },
  {
   "cell_type": "code",
   "execution_count": 1,
   "metadata": {
    "scrolled": true
   },
   "outputs": [],
   "source": [
    "X_input = [[0, 0], [1, 0], [0, 1], [1, 1]]\n",
    "Y_AND = [0, 0, 0, 1]\n",
    "Y_OR =  [0, 1, 1, 1]\n",
    "Y_XOR = [0, 1, 1, 0]\n",
    "\n",
    "n_data = len(X_input)\n",
    "dim_input = 1 + len(X_input[0]) # one bias + two input elements\n",
    "dim_output = 1"
   ]
  },
  {
   "cell_type": "markdown",
   "metadata": {},
   "source": [
    "### [2] Build a single-layer perceptron: input layer => output layer"
   ]
  },
  {
   "cell_type": "code",
   "execution_count": 2,
   "metadata": {
    "collapsed": true
   },
   "outputs": [],
   "source": [
    "# activation function of step\n",
    "def step(z):\n",
    "    if z > 0:\n",
    "        y = 1\n",
    "    else:\n",
    "        y = 0\n",
    "    return y\n",
    "    \n",
    "\n",
    "# build a single-layer perceptron: one sample => one output\n",
    "def perceptron(W, X):\n",
    "    X_ext = [1]\n",
    "    X_ext.extend(X) # extended input vector to that contains a bias: e.g., [0, 0] => [1, 0, 0]\n",
    "    weighted_sum = 0\n",
    "    for i in range(dim_input):\n",
    "        weighted_sum += W[i]*X_ext[i]\n",
    "    y = step(weighted_sum)\n",
    "    return y, X_ext"
   ]
  },
  {
   "cell_type": "markdown",
   "metadata": {},
   "source": [
    "### [3] Train a neural network"
   ]
  },
  {
   "cell_type": "code",
   "execution_count": 4,
   "metadata": {
    "scrolled": true
   },
   "outputs": [
    {
     "name": "stdout",
     "output_type": "stream",
     "text": [
      "AND-gate\n",
      "Y_target = [0, 0, 0, 1] \n",
      "\n",
      "initial weight\n",
      "W[0] = 0.424 , W[1] = 0.079 , W[2] = -0.398 \n",
      "\n",
      "iteration 1 : W[0] = 0.394 , W[1] = 0.069 , W[2] = -0.408 , Y_prediction = [1, 1, 1, 1]\n",
      "iteration 11 : W[0] = 0.284 , W[1] = 0.059 , W[2] = -0.318 , Y_prediction = [1, 1, 0, 0]\n",
      "iteration 21 : W[0] = 0.184 , W[1] = 0.059 , W[2] = -0.218 , Y_prediction = [1, 1, 0, 0]\n",
      "iteration 31 : W[0] = 0.084 , W[1] = 0.059 , W[2] = -0.118 , Y_prediction = [1, 1, 0, 0]\n",
      "iteration 41 : W[0] = -0.016 , W[1] = 0.049 , W[2] = -0.028 , Y_prediction = [0, 1, 0, 1]\n",
      "iteration 51 : W[0] = -0.036 , W[1] = 0.029 , W[2] = 0.012 , Y_prediction = [0, 0, 0, 1]\n",
      "iteration 61 : W[0] = -0.036 , W[1] = 0.029 , W[2] = 0.012 , Y_prediction = [0, 0, 0, 1]\n",
      "iteration 71 : W[0] = -0.036 , W[1] = 0.029 , W[2] = 0.012 , Y_prediction = [0, 0, 0, 1]\n",
      "iteration 81 : W[0] = -0.036 , W[1] = 0.029 , W[2] = 0.012 , Y_prediction = [0, 0, 0, 1]\n",
      "iteration 91 : W[0] = -0.036 , W[1] = 0.029 , W[2] = 0.012 , Y_prediction = [0, 0, 0, 1]\n"
     ]
    }
   ],
   "source": [
    "# set a target output\n",
    "Y_target = Y_AND\n",
    "print('AND-gate')\n",
    "print('Y_target =', Y_target, '\\n')\n",
    "\n",
    "\n",
    "# weight initialization\n",
    "import random\n",
    "W = list()\n",
    "for i in range(dim_input):\n",
    "    w_i = random.uniform(-1, 1) # a random number from uniform distribution [-1, 1]\n",
    "    W.append(w_i)\n",
    "print('initial weight') \n",
    "print('W[0] = %.3f' %W[0], ', W[1] = %.3f' %W[1], ', W[2] = %.3f' %W[2], '\\n')\n",
    "\n",
    "\n",
    "# iterations\n",
    "n_iter = 100 # number of update iterations\n",
    "beta = 0.01 # learning rate\n",
    "W_history = list()\n",
    "W_history.append(W)\n",
    "\n",
    "for n in range(n_iter):\n",
    "    Y = list()\n",
    "    \n",
    "    for k in range(n_data):\n",
    "        y_prediction, X_k = perceptron(W, X_input[k])\n",
    "        Y.append(y_prediction)\n",
    "        \n",
    "        for i in range(dim_input):\n",
    "            W[i] += beta * (Y_target[k] - y_prediction) * X_k[i] # perceptron update rule\n",
    "            W_history.append(W)\n",
    "        \n",
    "    if n % 10 == 0: # if n is divided by 10\n",
    "        print('iteration', n+1, ': W[0] = %.3f' %W[0], ', W[1] = %.3f' %W[1], ', W[2] = %.3f' %W[2],\n",
    "              ', Y_prediction =', Y)\n"
   ]
  }
 ],
 "metadata": {
  "kernelspec": {
   "display_name": "Python 3",
   "language": "python",
   "name": "python3"
  },
  "language_info": {
   "codemirror_mode": {
    "name": "ipython",
    "version": 3
   },
   "file_extension": ".py",
   "mimetype": "text/x-python",
   "name": "python",
   "nbconvert_exporter": "python",
   "pygments_lexer": "ipython3",
   "version": "3.5.3"
  }
 },
 "nbformat": 4,
 "nbformat_minor": 2
}
