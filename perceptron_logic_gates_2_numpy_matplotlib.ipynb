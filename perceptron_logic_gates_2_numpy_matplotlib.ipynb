{
 "cells": [
  {
   "cell_type": "markdown",
   "metadata": {},
   "source": [
    "## Perceptron for logic gates (AND, OR, XOR...?)\n",
    "\n",
    "* numpy version and visualization with matplotlib\n",
    "* convention for variable names: lower-case for a scalar, upper-case for a vector or matrix"
   ]
  },
  {
   "cell_type": "markdown",
   "metadata": {},
   "source": [
    "### [1] Data preparation"
   ]
  },
  {
   "cell_type": "code",
   "execution_count": 16,
   "metadata": {
    "collapsed": true,
    "scrolled": true
   },
   "outputs": [],
   "source": [
    "import numpy as np \n",
    "\n",
    "# variables are now transformed from list to numpy array\n",
    "X_input = np.array([[0, 0], [1, 0], [0, 1], [1, 1]])\n",
    "Y_AND = np.array([0, 0, 0, 1])\n",
    "Y_OR =  np.array([0, 1, 1, 1])\n",
    "Y_XOR = np.array([0, 1, 1, 0])\n",
    "\n",
    "n_data = X_input.shape[0]\n",
    "dim_input = 1 + X_input.shape[1] # one bias + two input elements\n",
    "dim_output = 1"
   ]
  },
  {
   "cell_type": "markdown",
   "metadata": {},
   "source": [
    "### [2] Build a single-layer perceptron: input layer => output layer"
   ]
  },
  {
   "cell_type": "code",
   "execution_count": 57,
   "metadata": {
    "collapsed": true
   },
   "outputs": [],
   "source": [
    "# activation function of step\n",
    "def step(z):\n",
    "    if z > 0:\n",
    "        y = 1\n",
    "    else:\n",
    "        y = 0\n",
    "    return y\n",
    "    \n",
    "\n",
    "# build a single-layer perceptron: one sample => one output\n",
    "def perceptron(W, X):\n",
    "    X_ext = np.append(1, X) # extended input vector to that contains a bias: e.g., [0, 0] => [1, 0, 0]\n",
    "    weighted_sum = np.dot(W, X_ext) # dot product\n",
    "    y = step(weighted_sum)\n",
    "    return y, X_ext"
   ]
  },
  {
   "cell_type": "markdown",
   "metadata": {},
   "source": [
    "### [3] Train a neural network"
   ]
  },
  {
   "cell_type": "code",
   "execution_count": 101,
   "metadata": {
    "scrolled": true
   },
   "outputs": [
    {
     "name": "stdout",
     "output_type": "stream",
     "text": [
      "AND-gate\n",
      "Y_target = [0 0 0 1] \n",
      "\n",
      "initial weight\n",
      "W[0] = -0.067 , W[1] = 0.908 , W[2] = 0.206 \n",
      "\n",
      "iteration 1 : W[0] = -0.087 , W[1] = 0.898 , W[2] = 0.196 , Y_prediction = [ 0.  1.  1.  1.]\n",
      "iteration 11 : W[0] = -0.227 , W[1] = 0.798 , W[2] = 0.156 , Y_prediction = [ 0.  1.  0.  1.]\n",
      "iteration 21 : W[0] = -0.327 , W[1] = 0.698 , W[2] = 0.156 , Y_prediction = [ 0.  1.  0.  1.]\n",
      "iteration 31 : W[0] = -0.427 , W[1] = 0.598 , W[2] = 0.156 , Y_prediction = [ 0.  1.  0.  1.]\n",
      "iteration 41 : W[0] = -0.517 , W[1] = 0.508 , W[2] = 0.156 , Y_prediction = [ 0.  0.  0.  1.]\n",
      "iteration 51 : W[0] = -0.517 , W[1] = 0.508 , W[2] = 0.156 , Y_prediction = [ 0.  0.  0.  1.]\n",
      "iteration 61 : W[0] = -0.517 , W[1] = 0.508 , W[2] = 0.156 , Y_prediction = [ 0.  0.  0.  1.]\n",
      "iteration 71 : W[0] = -0.517 , W[1] = 0.508 , W[2] = 0.156 , Y_prediction = [ 0.  0.  0.  1.]\n",
      "iteration 81 : W[0] = -0.517 , W[1] = 0.508 , W[2] = 0.156 , Y_prediction = [ 0.  0.  0.  1.]\n",
      "iteration 91 : W[0] = -0.517 , W[1] = 0.508 , W[2] = 0.156 , Y_prediction = [ 0.  0.  0.  1.]\n"
     ]
    }
   ],
   "source": [
    "# set a target output\n",
    "Y_target = Y_AND\n",
    "print('AND-gate')\n",
    "print('Y_target =', Y_target, '\\n')\n",
    "\n",
    "\n",
    "# weight initialization\n",
    "W = np.random.uniform(-1, 1, 3)\n",
    "print('initial weight') \n",
    "print('W[0] = %.3f' %W[0], ', W[1] = %.3f' %W[1], ', W[2] = %.3f' %W[2], '\\n')\n",
    "\n",
    "\n",
    "# iterations\n",
    "n_iter = 100 # number of update iterations\n",
    "beta = 0.01 # learning rate\n",
    "W_history = [W]\n",
    "\n",
    "for n in range(n_iter):\n",
    "    Y = np.zeros(n_data)\n",
    "    \n",
    "    for k in range(n_data):\n",
    "        y_prediction, X_k = perceptron(W, X_input[k])\n",
    "        Y[k] = y_prediction\n",
    "        W += beta * (Y_target[k] - Y[k]) * X_k\n",
    "        \n",
    "    if n % 10 == 0: # if n is divided by 10\n",
    "        print('iteration', n+1, ': W[0] = %.3f' %W[0], ', W[1] = %.3f' %W[1], ', W[2] = %.3f' %W[2],\n",
    "              ', Y_prediction =', Y)\n",
    "        \n",
    "    W_history = np.append(W_history, [W], axis=0)"
   ]
  },
  {
   "cell_type": "markdown",
   "metadata": {},
   "source": [
    "### [4] Visualization"
   ]
  },
  {
   "cell_type": "code",
   "execution_count": 102,
   "metadata": {},
   "outputs": [
    {
     "data": {
      "image/png": "[encoded data removed]",
      "text/plain": [
       "<matplotlib.figure.Figure at 0x1173ef2b0>"
      ]
     },
     "metadata": {},
     "output_type": "display_data"
    },
    {
     "data": {
      "image/png": "[encoded data removed]",
      "text/plain": [
       "<matplotlib.figure.Figure at 0x112c08390>"
      ]
     },
     "metadata": {},
     "output_type": "display_data"
    }
   ],
   "source": [
    "from matplotlib import pyplot as plt\n",
    "\n",
    "plt.figure(figsize=(16, 4))\n",
    "plt.plot(W_history[:, 0], '.-', label='W[0]')\n",
    "plt.plot(W_history[:, 1], '.-', label='W[1]')\n",
    "plt.plot(W_history[:, 2], '.-', label='W[2]')\n",
    "plt.legend()\n",
    "plt.show()\n",
    "\n",
    "\n",
    "slope = -W[1] / W[2]\n",
    "intercept = -W[0] / W[2]\n",
    "X0 = np.linspace(-0.5, 1.5, 100)\n",
    "Y0 = slope*X0 + intercept\n",
    "\n",
    "plt.figure(figsize=(4, 4))\n",
    "plt.plot([-0.5, 1.5], [0, 0], 'k--', alpha=0.5)\n",
    "plt.plot([0, 0], [-0.5, 1.5], 'k--', alpha=0.5)\n",
    "plt.plot(0, 0, 'bo')\n",
    "plt.plot(1, 0, 'bo')\n",
    "plt.plot(0, 1, 'bo')\n",
    "plt.plot(1, 1, 'ro')\n",
    "plt.plot(X0, Y0, 'k')\n",
    "plt.xlim(-0.5, 1.5)\n",
    "plt.ylim(-0.5, 1.5)\n",
    "plt.show()"
   ]
  },
  {
   "cell_type": "markdown",
   "metadata": {},
   "source": [
    "### [5] Altogether"
   ]
  },
  {
   "cell_type": "code",
   "execution_count": 125,
   "metadata": {},
   "outputs": [
    {
     "name": "stdout",
     "output_type": "stream",
     "text": [
      "Data\n",
      "Input = [0 0] , Target = 0\n",
      "Input = [1 0] , Target = 0\n",
      "Input = [0 1] , Target = 0\n",
      "Input = [1 1] , Target = 1\n",
      "\n",
      "Initial weight\n",
      "W[0] = 0.255 , W[1] = -0.192 , W[2] = -0.206 \n",
      "\n",
      "iteration 1 : W[0] = 0.235 , W[1] = -0.192 , W[2] = -0.206 , Y_prediction = [ 1.  1.  1.  0.]\n",
      "iteration 11 : W[0] = 0.155 , W[1] = -0.142 , W[2] = -0.136 , Y_prediction = [ 1.  0.  0.  0.]\n",
      "iteration 21 : W[0] = 0.085 , W[1] = -0.082 , W[2] = -0.066 , Y_prediction = [ 1.  1.  0.  0.]\n",
      "iteration 31 : W[0] = 0.015 , W[1] = -0.012 , W[2] = -0.006 , Y_prediction = [ 1.  0.  1.  0.]\n",
      "iteration 41 : W[0] = -0.025 , W[1] = 0.008 , W[2] = 0.024 , Y_prediction = [ 0.  0.  0.  1.]\n",
      "iteration 51 : W[0] = -0.025 , W[1] = 0.008 , W[2] = 0.024 , Y_prediction = [ 0.  0.  0.  1.]\n",
      "iteration 61 : W[0] = -0.025 , W[1] = 0.008 , W[2] = 0.024 , Y_prediction = [ 0.  0.  0.  1.]\n",
      "iteration 71 : W[0] = -0.025 , W[1] = 0.008 , W[2] = 0.024 , Y_prediction = [ 0.  0.  0.  1.]\n",
      "iteration 81 : W[0] = -0.025 , W[1] = 0.008 , W[2] = 0.024 , Y_prediction = [ 0.  0.  0.  1.]\n",
      "iteration 91 : W[0] = -0.025 , W[1] = 0.008 , W[2] = 0.024 , Y_prediction = [ 0.  0.  0.  1.]\n"
     ]
    },
    {
     "data": {
      "image/png": "[encoded data removed]",
      "text/plain": [
       "<matplotlib.figure.Figure at 0x1177f4240>"
      ]
     },
     "metadata": {},
     "output_type": "display_data"
    }
   ],
   "source": [
    "import numpy as np \n",
    "from matplotlib import pyplot as plt\n",
    "\n",
    "\n",
    "# data preparation\n",
    "X_input = np.array([[0, 0], [1, 0], [0, 1], [1, 1]])\n",
    "n_data = X_input.shape[0]\n",
    "dim_input = 1 + X_input.shape[1] # one bias + two input elements\n",
    "\n",
    "Y_AND = np.array([0, 0, 0, 1])\n",
    "Y_OR =  np.array([0, 1, 1, 1])\n",
    "Y_XOR = np.array([0, 1, 1, 0])\n",
    "Y_target = Y_AND\n",
    "dim_output = 1\n",
    "\n",
    "print('Data')\n",
    "for i in range(n_data):\n",
    "    print('Input =', X_input[i], ', Target =', Y_target[i])\n",
    "\n",
    "\n",
    "# build a perceptron\n",
    "def step(z):\n",
    "    if z > 0:\n",
    "        y = 1\n",
    "    else:\n",
    "        y = 0\n",
    "    return y\n",
    "\n",
    "def sigmoid(z):\n",
    "    return 1 / (1 + np.exp(-z))\n",
    "    \n",
    "def perceptron(W, X):\n",
    "    X_ext = np.append(1, X) # extended input vector to that contains a bias: e.g., [0, 0] => [1, 0, 0]\n",
    "    weighted_sum = np.dot(W, X_ext) # dot product\n",
    "    y = step(weighted_sum)\n",
    "    return y, X_ext\n",
    "\n",
    "\n",
    "# training\n",
    "W = np.random.uniform(-0.5, 0.5, 3)\n",
    "print('\\nInitial weight') \n",
    "print('W[0] = %.3f' %W[0], ', W[1] = %.3f' %W[1], ', W[2] = %.3f' %W[2], '\\n')\n",
    "\n",
    "n_iter = 100 # number of update iterations\n",
    "beta = 0.01 # learning rate\n",
    "W_history = [W]\n",
    "\n",
    "slope = -W[1] / W[2]\n",
    "intercept = -W[0] / W[2]\n",
    "X0 = np.linspace(-0.5, 1.5, 100)\n",
    "Y0 = slope*X0 + intercept\n",
    "\n",
    "plt.figure(figsize=(4, 4))\n",
    "plt.plot([-0.5, 1.5], [0, 0], 'k--', alpha=0.5)\n",
    "plt.plot([0, 0], [-0.5, 1.5], 'k--', alpha=0.5)\n",
    "plt.plot(0, 0, 'bo')\n",
    "plt.plot(1, 0, 'bo')\n",
    "plt.plot(0, 1, 'bo')\n",
    "plt.plot(1, 1, 'ro')\n",
    "plt.plot(X0, Y0, 'k', alpha=0.1) \n",
    "plt.xlim(-0.5, 1.5)\n",
    "plt.ylim(-0.5, 1.5)\n",
    "\n",
    "for n in range(n_iter):\n",
    "    Y = np.zeros(n_data)\n",
    "    \n",
    "    for k in range(n_data):\n",
    "        y_prediction, X_k = perceptron(W, X_input[k])\n",
    "        Y[k] = y_prediction\n",
    "        W += beta * (Y_target[k] - Y[k]) * X_k\n",
    "        \n",
    "    if n % 10 == 0: # if n is divided by 10\n",
    "        print('iteration', n+1, ': W[0] = %.3f' %W[0], ', W[1] = %.3f' %W[1], ', W[2] = %.3f' %W[2],\n",
    "              ', Y_prediction =', Y)\n",
    "        slope = -W[1] / W[2]\n",
    "        intercept = -W[0] / W[2]\n",
    "        X0 = np.linspace(-0.5, 1.5, 100)\n",
    "        Y0 = slope*X0 + intercept\n",
    "        plt.plot(X0, Y0, 'k', alpha=sigmoid(n)) \n",
    "        \n",
    "    W_history = np.append(W_history, [W], axis=0)\n",
    "    \n",
    "plt.show()"
   ]
  }
 ],
 "metadata": {
  "kernelspec": {
   "display_name": "Python 3",
   "language": "python",
   "name": "python3"
  },
  "language_info": {
   "codemirror_mode": {
    "name": "ipython",
    "version": 3
   },
   "file_extension": ".py",
   "mimetype": "text/x-python",
   "name": "python",
   "nbconvert_exporter": "python",
   "pygments_lexer": "ipython3",
   "version": "3.5.3"
  }
 },
 "nbformat": 4,
 "nbformat_minor": 2
}
